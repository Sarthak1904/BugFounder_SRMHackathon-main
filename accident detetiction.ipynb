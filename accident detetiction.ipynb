{
 "cells": [
  {
   "cell_type": "markdown",
   "id": "d88f9e82",
   "metadata": {},
   "source": [
    "# Import file"
   ]
  },
  {
   "cell_type": "code",
   "execution_count": null,
   "id": "2d90b8bb",
   "metadata": {},
   "outputs": [],
   "source": [
    "\n",
    "\n",
    "import cv2\n",
    "import numpy as np\n",
    "from time import sleep\n"
   ]
  },
  {
   "cell_type": "code",
   "execution_count": null,
   "id": "7933f062",
   "metadata": {},
   "outputs": [],
   "source": [
    "largura_min = 80\n",
    "altura_min = 80\n",
    "offset = 6\n",
    "pos_linha = 550\n"
   ]
  },
  {
   "cell_type": "markdown",
   "id": "38bea8a6",
   "metadata": {},
   "source": [
    "# FPS of video"
   ]
  },
  {
   "cell_type": "code",
   "execution_count": null,
   "id": "d86da0a4",
   "metadata": {},
   "outputs": [],
   "source": [
    "delay = 60\n",
    "\n",
    "detec = []\n",
    "carros = 0\n",
    "\n",
    "\t\n",
    "def pega_centro(x, y, w, h):\n",
    "    x1 = int(w / 2)\n",
    "    y1 = int(h / 2)\n",
    "    cx = x + x1\n",
    "    cy = y + y1\n",
    "    return cx, cy\n"
   ]
  },
  {
   "cell_type": "markdown",
   "id": "19fbd963",
   "metadata": {},
   "source": [
    "# Video source input"
   ]
  },
  {
   "cell_type": "code",
   "execution_count": null,
   "id": "c8bd8bf8",
   "metadata": {},
   "outputs": [],
   "source": [
    "cap = cv2.VideoCapture('video.mp4')\n"
   ]
  },
  {
   "cell_type": "code",
   "execution_count": null,
   "id": "85caa9e7",
   "metadata": {},
   "outputs": [],
   "source": [
    "subtracao = cv2.createBackgroundSubtractorMOG2()\n",
    "\n",
    "\n"
   ]
  },
  {
   "cell_type": "code",
   "execution_count": null,
   "id": "9732fdca",
   "metadata": {},
   "outputs": [],
   "source": [
    "\n",
    "while True:\n",
    "    ret, frame1 = cap.read()\n",
    "    tempo = float(1/delay)\n",
    "    sleep(tempo) \n",
    "    grey = cv2.cvtColor(frame1, cv2.COLOR_BGR2GRAY)\n",
    "    blur = cv2.GaussianBlur(grey, (3, 3), 5)\n",
    "    img_sub = subtracao.apply(blur)\n",
    "    dilat = cv2.dilate(img_sub, np.ones((5, 5)))\n",
    "    kernel = cv2.getStructuringElement(cv2.MORPH_ELLIPSE, (5, 5))\n",
    "\n",
    "    # The morphologyEx() of the method of the class Imgproc accepts src, dst, op, kernel as parameters\n",
    "    dilatada = cv2.morphologyEx(dilat, cv2. MORPH_CLOSE, kernel)\n",
    "    dilatada = cv2.morphologyEx(dilatada, cv2. MORPH_CLOSE, kernel)\n",
    "\n",
    "    # OpenCV has findContour() function that helps in extracting the contours from the image.\n",
    "    # It works best on binary images, so we should first apply thresholding techniques, Sobel edges, etc.\n",
    "    contorno, h = cv2.findContours(dilatada, cv2.RETR_TREE, cv2.CHAIN_APPROX_SIMPLE)\n",
    "\n",
    "\n",
    "    # it will create a line\n",
    "    # Parameters:\n",
    "    # image: It is the image on which line is to be drawn.\n",
    "    # start_point: It is the starting coordinates of line.\n",
    "    # end_point: It is the ending coordinates of line.\n",
    "    # color: It is the color of line to be drawn.\n",
    "    # thickness: It is the thickness of the line in px.\n",
    "    cv2.line(frame1, (25, pos_linha), (1200, pos_linha), (176, 130, 39), 2)\n",
    "    for(i, c) in enumerate(contorno):\n",
    "        (x, y, w, h) = cv2.boundingRect(c)\n",
    "        validar_contorno = (w >= largura_min) and (h >= altura_min)\n",
    "        if not validar_contorno:\n",
    "            continue\n",
    "\n",
    "        cv2.rectangle(frame1, (x, y), (x+w, y+h), (0, 255, 0), 2)\n",
    "        centro = pega_centro(x, y, w, h)\n",
    "        detec.append(centro)\n",
    "        cv2.circle(frame1, centro, 4, (0, 0, 255), -1)\n",
    "\n",
    "        for (x, y) in detec:\n",
    "            if (y < (pos_linha + offset)) and (y > (pos_linha-offset)):\n",
    "                carros += 1\n",
    "                cv2.line(frame1, (25, pos_linha), (1200, pos_linha), (0, 127, 255), 3)\n",
    "                detec.remove((x, y))\n",
    "                print(\"No. of cars detected : \" + str(carros))\n",
    "\n",
    "    # cv2.putText() method is used to draw a text string on any image.\n",
    "    # Parameters: image, text, org(coordinate), font, color, thickness\n",
    "    cv2.putText(frame1, \"VEHICLE COUNT : \"+str(carros), (320, 70), cv2.FONT_HERSHEY_COMPLEX, 2, (0, 0, 255), 4)\n",
    "    cv2.imshow(\"Video Original\", frame1)\n",
    "    cv2.imshow(\" Detectar \", dilatada)\n",
    "\n",
    "    # To display the image, you can use the imshow() method of cv2\n",
    "    if cv2.waitKey(1) == 27:\n",
    "        break"
   ]
  },
  {
   "cell_type": "code",
   "execution_count": null,
   "id": "790a0969",
   "metadata": {},
   "outputs": [],
   "source": [
    "cv2.destroyAllWindows()\n",
    "cap.release()\n"
   ]
  },
  {
   "cell_type": "code",
   "execution_count": null,
   "id": "6e4eeab2",
   "metadata": {},
   "outputs": [],
   "source": []
  }
 ],
 "metadata": {
  "kernelspec": {
   "display_name": "Python 3 (ipykernel)",
   "language": "python",
   "name": "python3"
  },
  "language_info": {
   "codemirror_mode": {
    "name": "ipython",
    "version": 3
   },
   "file_extension": ".py",
   "mimetype": "text/x-python",
   "name": "python",
   "nbconvert_exporter": "python",
   "pygments_lexer": "ipython3",
   "version": "3.9.7"
  }
 },
 "nbformat": 4,
 "nbformat_minor": 5
}
