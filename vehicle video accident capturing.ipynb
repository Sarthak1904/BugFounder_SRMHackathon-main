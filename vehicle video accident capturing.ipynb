{
 "cells": [
  {
   "cell_type": "markdown",
   "id": "daf6c90b",
   "metadata": {},
   "source": [
    "# IMPORT FILES"
   ]
  },
  {
   "cell_type": "code",
   "execution_count": 4,
   "id": "ab3a0dd5",
   "metadata": {},
   "outputs": [],
   "source": [
    "import cv2\n",
    "import numpy as np\n"
   ]
  },
  {
   "cell_type": "markdown",
   "id": "54652323",
   "metadata": {},
   "source": [
    "# Algorithm for camera on road\n",
    "#### In this the camera inside laptop will have value from(-1 to 10). To find this we will find the value one by one"
   ]
  },
  {
   "cell_type": "code",
   "execution_count": 6,
   "id": "f3a0815a",
   "metadata": {},
   "outputs": [
    {
     "name": "stdout",
     "output_type": "stream",
     "text": [
      "[]\n"
     ]
    }
   ],
   "source": [
    "def return_camera_indices():\n",
    "    index=-2\n",
    "    arr=[]\n",
    "    i=10\n",
    "    while i>0:\n",
    "        cap=cv2.VideoCapture(index)\n",
    "        if cap.read()[0]:\n",
    "            arr.append(index)\n",
    "            cap.release()\n",
    "        index+=1\n",
    "        i-=1\n",
    "        return arr\n",
    "print(return_camera_indices())"
   ]
  },
  {
   "cell_type": "markdown",
   "id": "bb9a8f0f",
   "metadata": {},
   "source": [
    "# Video initiating"
   ]
  },
  {
   "cell_type": "code",
   "execution_count": 7,
   "id": "76578143",
   "metadata": {},
   "outputs": [],
   "source": [
    "video=cv2.VideoCapture(0)"
   ]
  },
  {
   "cell_type": "markdown",
   "id": "f7d22484",
   "metadata": {},
   "source": [
    "# Video processing and output screening"
   ]
  },
  {
   "cell_type": "code",
   "execution_count": null,
   "id": "8cde5f03",
   "metadata": {},
   "outputs": [],
   "source": [
    "video=cv2.VideoCapture(0)\n",
    "\n",
    "while True:\n",
    "    ret, frame =video.read()\n",
    "    if cv2.waitKey(10)==ord('q'):\n",
    "        break\n",
    "    cv2.imshow(\"image\",frame)"
   ]
  },
  {
   "cell_type": "code",
   "execution_count": null,
   "id": "c2c4d0a7",
   "metadata": {},
   "outputs": [],
   "source": []
  }
 ],
 "metadata": {
  "kernelspec": {
   "display_name": "Python 3 (ipykernel)",
   "language": "python",
   "name": "python3"
  },
  "language_info": {
   "codemirror_mode": {
    "name": "ipython",
    "version": 3
   },
   "file_extension": ".py",
   "mimetype": "text/x-python",
   "name": "python",
   "nbconvert_exporter": "python",
   "pygments_lexer": "ipython3",
   "version": "3.9.7"
  }
 },
 "nbformat": 4,
 "nbformat_minor": 5
}
